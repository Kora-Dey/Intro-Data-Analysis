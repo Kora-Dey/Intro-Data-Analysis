{
 "cells": [
  {
   "cell_type": "raw",
   "id": "e10c7752-ee43-4337-96a5-cf940f81f87e",
   "metadata": {},
   "source": [
    "'''\n",
    "Please use the provided sample code to do the inferential statistics lab. \n",
    "In this lab you are asked to generate 4 datasets with Gaussian distribution and specified mean \n",
    "and variance. In part 1 of the lab you are required to define the null hypothesis and the alternative hypothesis and perform a significance test ( you need to figure out what significance test applies in this case) using the sample code.\n",
    "\n",
    "In the second part of the lab you will determine/verify that the samples in 4 datasets come \n",
    "from 4 different distributions. You will prove the statement by writing Python code. \n",
    "Include the interpretation of the results as multi-line comments in the code.\n",
    "\n",
    "'''"
   ]
  },
  {
   "cell_type": "code",
   "execution_count": 1,
   "id": "480d7e34-5971-4ad8-b4dc-f3406aa92e56",
   "metadata": {},
   "outputs": [
    {
     "name": "stdout",
     "output_type": "stream",
     "text": [
      "data1: mean=50.303 stdv=4.426\n",
      "data2: mean=51.764 stdv=4.660\n"
     ]
    }
   ],
   "source": [
    "# generate gaussian data samples\n",
    "from numpy.random import seed\n",
    "from numpy.random import randn\n",
    "from numpy import mean\n",
    "from numpy import std\n",
    "# seed the random number generator\n",
    "seed(1)\n",
    "# generate two sets of univariate observations\n",
    "data1 = 5 * randn(100) + 50\n",
    "data2 = 5 * randn(100) + 51\n",
    "# summarize\n",
    "print('data1: mean=%.3f stdv=%.3f' % (mean(data1), std(data1)))\n",
    "print('data2: mean=%.3f stdv=%.3f' % (mean(data2), std(data2)))\n"
   ]
  },
  {
   "cell_type": "code",
   "execution_count": 2,
   "id": "b2da595b-7935-47e3-bdfd-3cf153d01f57",
   "metadata": {},
   "outputs": [],
   "source": [
    "import pandas as pd\n",
    "import matplotlib.pyplot as plt\n",
    "import seaborn as sns\n",
    "from pandas.plotting import scatter_matrix\n",
    "from pandas import set_option\n",
    "from pandas import read_csv\n",
    "import numpy as np\n"
   ]
  },
  {
   "cell_type": "code",
   "execution_count": 10,
   "id": "19e92b44-c5b3-41f9-aa4e-c3a6b10e820b",
   "metadata": {},
   "outputs": [],
   "source": [
    "#####################################################################\n",
    "# Generate 4 datasets with mean of 10, 15, 20 and 25 and standard deviation of 2\n",
    "# each containing 100 samples. Name the datasets data1, data2, data3 and data4 \n",
    "#\n",
    "#\n",
    "\n",
    "data1 = np.random.normal(10, 2 , size = 100)\n",
    "data2 = np.random.normal(15, 2 , size = 100)\n",
    "data3 = np.random.normal(20, 2 , size = 100)\n",
    "data4 = np.random.normal(25, 2 , size = 100)\n"
   ]
  },
  {
   "cell_type": "code",
   "execution_count": 9,
   "id": "150cc52d-9863-4d87-a7a4-96a3f1604c44",
   "metadata": {},
   "outputs": [
    {
     "data": {
      "text/plain": [
       "<AxesSubplot:ylabel='Count'>"
      ]
     },
     "execution_count": 9,
     "metadata": {},
     "output_type": "execute_result"
    },
    {
     "data": {
      "image/png": "[encoded data removed]",
      "text/plain": [
       "<Figure size 720x288 with 4 Axes>"
      ]
     },
     "metadata": {},
     "output_type": "display_data"
    }
   ],
   "source": [
    "sns.set(rc={\"figure.figsize\":(10,4)}) \n",
    "\n",
    "fig, ax =plt.subplots(2,2)\n",
    "\n",
    "sns.histplot(data1,bins = 20, ax=ax[0,0],kde=True)\n",
    "sns.histplot(data2,bins = 20,ax=ax[0,1],kde=True)\n",
    "sns.histplot(data3,bins = 20,ax=ax[1,0],kde=True)\n",
    "sns.histplot(data4,bins = 20,ax=ax[1,1],kde=True)\n"
   ]
  },
  {
   "cell_type": "markdown",
   "id": "cc0b821e-6f0a-4d30-ba5b-f7d23f88fd4b",
   "metadata": {},
   "source": [
    "# Part 1\n",
    "### The goal is to determine if the samples from data1 and data2 come from the same distribution or not. Specify the null and the alternative hypothesis and appropriate significance test. \n",
    "### Calculate the p-value and and a significance of 0.05 and confirm that the samples come from two different distributions. \n",
    "### The confirmation of the results should be based on program. \n",
    "### Use the sample code provided in significanceTest.py as a starting point"
   ]
  },
  {
   "cell_type": "code",
   "execution_count": 11,
   "id": "c96ca3a6-c3d4-415a-95d3-64cb27d4d533",
   "metadata": {},
   "outputs": [
    {
     "name": "stdout",
     "output_type": "stream",
     "text": [
      "Statistics=-16.787, p=0.000\n",
      "Different distributions (reject H0)\n"
     ]
    }
   ],
   "source": [
    "# student's t-test\n",
    "from numpy.random import seed\n",
    "from numpy.random import randn\n",
    "from scipy.stats import ttest_ind\n",
    "# seed the random number generator\n",
    "seed(1)\n",
    "# generate two independent samples\n",
    "#data1 = 5 * randn(100) + 50\n",
    "#data2 = 5 * randn(100) + 51\n",
    "# compare samples\n",
    "stat, p = ttest_ind(data1, data2)\n",
    "print('Statistics=%.3f, p=%.3f' % (stat, p))\n",
    "# interpret\n",
    "alpha = 0.05\n",
    "if p > alpha:\n",
    "    print('Same distributions (fail to reject H0)')\n",
    "else:\n",
    "    print('Different distributions (reject H0)')"
   ]
  },
  {
   "cell_type": "code",
   "execution_count": null,
   "id": "1feccb4b-1c36-468a-a0fa-520328ee4219",
   "metadata": {},
   "outputs": [],
   "source": []
  },
  {
   "cell_type": "code",
   "execution_count": null,
   "id": "0a4427f3-427b-4ba0-84f0-09be9aeec504",
   "metadata": {},
   "outputs": [],
   "source": []
  },
  {
   "cell_type": "markdown",
   "id": "8029fcac-3c26-4b0e-bc1d-e25544aebe50",
   "metadata": {},
   "source": [
    "# Part 2\n",
    "### Perform one-way ANOVA for data1, data2, data3 and data4. State the null hypothesis and the alternative hypothesis and specify what you expect to prove based on the simulated data (data1 to data4), i.e. which hypothesis is accepted confirm the results of the hypothesis test with the output of your program."
   ]
  },
  {
   "cell_type": "code",
   "execution_count": 14,
   "id": "9b3fd124-85eb-4437-b799-a6322bb8a03c",
   "metadata": {},
   "outputs": [
    {
     "name": "stdout",
     "output_type": "stream",
     "text": [
      "Statistics=2077.402, p=0.000\n",
      "Different distributions (reject H0)\n"
     ]
    }
   ],
   "source": [
    "\n",
    "###############################################################\n",
    "\n",
    "# analysis of variance test, ANOVA\n",
    "from numpy.random import seed\n",
    "from numpy.random import randn\n",
    "from scipy.stats import f_oneway\n",
    "# seed the random number generator\n",
    "seed(1)\n",
    "# generate three independent samples\n",
    "#data1 = 5 * randn(100) + 50\n",
    "#data2 = 5 * randn(100) + 50\n",
    "#data3 = 5 * randn(100) + 52\n",
    "# compare samples\n",
    "stat, p = f_oneway(data1, data2, data3)\n",
    "print('Statistics=%.3f, p=%.3f' % (stat, p))\n",
    "# interpret\n",
    "alpha = 0.05\n",
    "if p > alpha:\n",
    "    print('Same distributions (fail to reject H0)')\n",
    "else:\n",
    "    print('Different distributions (reject H0)')    "
   ]
  },
  {
   "cell_type": "code",
   "execution_count": null,
   "id": "6f08b54a-830c-4dfa-9507-a3e980e69316",
   "metadata": {},
   "outputs": [],
   "source": []
  }
 ],
 "metadata": {
  "kernelspec": {
   "display_name": "Python 3 (ipykernel)",
   "language": "python",
   "name": "python3"
  },
  "language_info": {
   "codemirror_mode": {
    "name": "ipython",
    "version": 3
   },
   "file_extension": ".py",
   "mimetype": "text/x-python",
   "name": "python",
   "nbconvert_exporter": "python",
   "pygments_lexer": "ipython3",
   "version": "3.9.12"
  }
 },
 "nbformat": 4,
 "nbformat_minor": 5
}
