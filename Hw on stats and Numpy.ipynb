{
 "cells": [
  {
   "cell_type": "markdown",
   "id": "d86af057-6f7e-48d9-948b-2e514c14e390",
   "metadata": {},
   "source": [
    "# Use Numpy/Scipy libraries to generate a 2D array of size (100 X 100) random integers between 0 \n",
    "# to 100. "
   ]
  },
  {
   "cell_type": "code",
   "execution_count": 5,
   "id": "49c36176-462c-4313-aacd-071f7ecd86af",
   "metadata": {},
   "outputs": [],
   "source": [
    "import numpy as np\n",
    "\n",
    "new2D = np.random.randint(low=0, high=100, size = (100,100))"
   ]
  },
  {
   "cell_type": "code",
   "execution_count": 6,
   "id": "a447ad52-effd-427f-b51a-1088e6c55e08",
   "metadata": {},
   "outputs": [
    {
     "data": {
      "text/plain": [
       "(100, 100)"
      ]
     },
     "execution_count": 6,
     "metadata": {},
     "output_type": "execute_result"
    }
   ],
   "source": [
    "new2D.shape"
   ]
  },
  {
   "cell_type": "code",
   "execution_count": 13,
   "id": "b8260153-feb7-43a7-94fa-2c1017caaee8",
   "metadata": {},
   "outputs": [
    {
     "data": {
      "text/plain": [
       "array([[44, 90, 55, ..., 89, 97, 32],\n",
       "       [19, 18, 97, ..., 16,  7, 25],\n",
       "       [42, 68, 85, ..., 75, 65, 70],\n",
       "       ...,\n",
       "       [ 0, 28, 95, ..., 27, 36, 47],\n",
       "       [22, 70, 77, ..., 29, 82, 25],\n",
       "       [89, 86, 20, ..., 71, 18, 63]])"
      ]
     },
     "execution_count": 13,
     "metadata": {},
     "output_type": "execute_result"
    }
   ],
   "source": [
    "new2D"
   ]
  },
  {
   "cell_type": "markdown",
   "id": "31ff57b3-e6aa-43d4-a064-fef705ddc141",
   "metadata": {},
   "source": [
    "# 6- Flatten the array and store it in a new Numpy array called new1D. "
   ]
  },
  {
   "cell_type": "code",
   "execution_count": 14,
   "id": "4e1199aa-1a3c-431f-99e8-5754a5a8a582",
   "metadata": {},
   "outputs": [],
   "source": [
    "new1D = new2D.flatten()"
   ]
  },
  {
   "cell_type": "code",
   "execution_count": 9,
   "id": "659979e7-c71f-4ebd-9bb4-573e4600e887",
   "metadata": {},
   "outputs": [
    {
     "data": {
      "text/plain": [
       "(10000,)"
      ]
     },
     "execution_count": 9,
     "metadata": {},
     "output_type": "execute_result"
    }
   ],
   "source": [
    "new1D.shape"
   ]
  },
  {
   "cell_type": "code",
   "execution_count": 10,
   "id": "b3d44615-b1c0-4140-a962-c7efbd6504dd",
   "metadata": {},
   "outputs": [
    {
     "data": {
      "text/plain": [
       "array([44, 90, 55, ..., 71, 18, 63])"
      ]
     },
     "execution_count": 10,
     "metadata": {},
     "output_type": "execute_result"
    }
   ],
   "source": [
    "new1D"
   ]
  },
  {
   "cell_type": "markdown",
   "id": "42326138-3cfc-4020-976f-973996f83dd6",
   "metadata": {},
   "source": [
    "# 7- Estimate the PDF of the new1D by plotting its histogram. "
   ]
  },
  {
   "cell_type": "code",
   "execution_count": 12,
   "id": "c8c4aa79-a4f1-4576-9ce4-2f5dfe1384e2",
   "metadata": {},
   "outputs": [
    {
     "data": {
      "text/plain": [
       "(array([501., 401., 465., 404., 505., 433., 505., 403., 508., 408., 508.,\n",
       "        407., 552., 396., 463., 418., 480., 378., 486., 379., 501., 499.]),\n",
       " array([ 0. ,  4.5,  9. , 13.5, 18. , 22.5, 27. , 31.5, 36. , 40.5, 45. ,\n",
       "        49.5, 54. , 58.5, 63. , 67.5, 72. , 76.5, 81. , 85.5, 90. , 94.5,\n",
       "        99. ]),\n",
       " <BarContainer object of 22 artists>)"
      ]
     },
     "execution_count": 12,
     "metadata": {},
     "output_type": "execute_result"
    },
    {
     "data": {
      "image/png": "[encoded data removed]",
      "text/plain": [
       "<Figure size 432x288 with 1 Axes>"
      ]
     },
     "metadata": {
      "needs_background": "light"
     },
     "output_type": "display_data"
    }
   ],
   "source": [
    "import matplotlib.pyplot as plt\n",
    "\n",
    "plt.hist(new1D, bins='auto') "
   ]
  },
  {
   "cell_type": "code",
   "execution_count": null,
   "id": "ef3aac04-ef0c-49c5-817c-7d7c19513580",
   "metadata": {},
   "outputs": [],
   "source": []
  }
 ],
 "metadata": {
  "kernelspec": {
   "display_name": "Python 3 (ipykernel)",
   "language": "python",
   "name": "python3"
  },
  "language_info": {
   "codemirror_mode": {
    "name": "ipython",
    "version": 3
   },
   "file_extension": ".py",
   "mimetype": "text/x-python",
   "name": "python",
   "nbconvert_exporter": "python",
   "pygments_lexer": "ipython3",
   "version": "3.9.12"
  }
 },
 "nbformat": 4,
 "nbformat_minor": 5
}
