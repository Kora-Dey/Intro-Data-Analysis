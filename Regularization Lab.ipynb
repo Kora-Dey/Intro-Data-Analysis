{
 "cells": [
  {
   "cell_type": "markdown",
   "id": "dc7b363d-65e4-4b9f-9562-a86be3bdd867",
   "metadata": {},
   "source": [
    "1. Use the baseball salary dataset and the exploratory data analysis (EDA) to determine  visually which are the candidate features for the model (correlation and scatter plot) \n",
    "2. Assume the log of salary column as the transformed output (real output) and the rest of  the columns as predictors or inputs. \n",
    "3. Calculate the descriptive statistics for the dataset. What is this information good for? \n",
    "4. Plot the histogram of each column. How do you interpret the distribution plots? \n",
    "5. Use the same methods for feature selection/elimination given in the sample code (RFE  and stepwise forward/backward) to figure out the final model. \n",
    "6. For feature selection start with a larger number of features and monitor the performance measures. Pick the number of features based on the performance measure when there is a significant change and stop when you do not see a major improvement. \n",
    "7. Standardize the data by removing the mean and making the standard deviation equal to one (use from sklearn.preprocessing import StandardScaler, , and look at an example on how it is used) \n",
    "8. Normalize the features by scaling them to a range between 0 and 1. Use the normalize object in scikit learn library to perform normalization on the data. Read the documentation from the preprocessing library documentation and look at the sample code given in the documentation as a guide on how to perform normalization. \n",
    "9. Perform steps 1-6 for the standardized data and compare the results with the original analysis. What are the differences and how do you interpret the impact of standardization? \n",
    "10. Perform steps 1-6 for the normalized data and compare the results with the original analysis. What are the differences and how do you interpret the impact of normalization? \n",
    "11. Use a ridge regression approach to determine an optimum number of predictors for the baseball salary dataset. Find the value of alpha that corresponds to the number of predictors with manual tuning. (same technique you used to determine the number of predictors with the RFE model. Ignore the stepwise method). \n",
    "12.  Use a Lasso regression approach to determine an optimum number of predictors for the baseball salary dataset. Find the value of alpha that corresponds to the number of predictors with manual tuning. (same technique you used to determine the number of predictors with the RFE model. Ignore the stepwise method). Compare the results of the Lasso with the ridge regression. For steps 11 and 12, you need to adjust the alpha value 2 to get to desired results. Alpha is referred to as hyper parameter and needs tuning. \n",
    "Refer to the sample code that is provided for the lab. \n",
    " \n",
    "13. Include your code, the results and explanation of the results as a (.py) plus the output/results as comments in your code or as screenshots if it involves plots/graphics and upload to Canvas.  \n",
    "\n"
   ]
  },
  {
   "cell_type": "code",
   "execution_count": 2,
   "id": "d51a7417-63ab-4f5f-846b-359b8fcaad9f",
   "metadata": {},
   "outputs": [],
   "source": [
    "import pandas as pd\n",
    "import matplotlib.pyplot as plt\n",
    "import seaborn as sns\n",
    "from pandas.plotting import scatter_matrix\n",
    "from pandas import set_option\n",
    "from pandas import read_csv\n",
    "import numpy as np\n",
    "from sklearn.model_selection import train_test_split\n",
    "from sklearn.linear_model import LinearRegression\n",
    "from sklearn.linear_model import Ridge\n",
    "from sklearn.feature_selection import RFE\n",
    "from sklearn.preprocessing import OneHotEncoder\n",
    "from sklearn.linear_model import Lasso\n",
    "import statsmodels.api as sm\n",
    "from sklearn.datasets import load_boston\n",
    "from sklearn.preprocessing import StandardScaler\n",
    "from sklearn.preprocessing import Normalizer\n",
    "\n",
    "import warnings\n",
    "\n",
    "warnings.filterwarnings('ignore')\n",
    "\n",
    "filename = 'Salaries.csv'\n",
    "data = read_csv(filename)"
   ]
  },
  {
   "cell_type": "code",
   "execution_count": 3,
   "id": "bef780d4-8a36-4997-8cc3-b02f1300f671",
   "metadata": {},
   "outputs": [
    {
     "data": {
      "text/html": [
       "<div>\n",
       "<style scoped>\n",
       "    .dataframe tbody tr th:only-of-type {\n",
       "        vertical-align: middle;\n",
       "    }\n",
       "\n",
       "    .dataframe tbody tr th {\n",
       "        vertical-align: top;\n",
       "    }\n",
       "\n",
       "    .dataframe thead th {\n",
       "        text-align: right;\n",
       "    }\n",
       "</style>\n",
       "<table border=\"1\" class=\"dataframe\">\n",
       "  <thead>\n",
       "    <tr style=\"text-align: right;\">\n",
       "      <th></th>\n",
       "      <th>rank</th>\n",
       "      <th>discipline</th>\n",
       "      <th>phd</th>\n",
       "      <th>service</th>\n",
       "      <th>sex</th>\n",
       "      <th>salary</th>\n",
       "    </tr>\n",
       "  </thead>\n",
       "  <tbody>\n",
       "    <tr>\n",
       "      <th>0</th>\n",
       "      <td>Prof</td>\n",
       "      <td>B</td>\n",
       "      <td>56</td>\n",
       "      <td>49</td>\n",
       "      <td>Male</td>\n",
       "      <td>186960</td>\n",
       "    </tr>\n",
       "    <tr>\n",
       "      <th>1</th>\n",
       "      <td>Prof</td>\n",
       "      <td>A</td>\n",
       "      <td>12</td>\n",
       "      <td>6</td>\n",
       "      <td>Male</td>\n",
       "      <td>93000</td>\n",
       "    </tr>\n",
       "    <tr>\n",
       "      <th>2</th>\n",
       "      <td>Prof</td>\n",
       "      <td>A</td>\n",
       "      <td>23</td>\n",
       "      <td>20</td>\n",
       "      <td>Male</td>\n",
       "      <td>110515</td>\n",
       "    </tr>\n",
       "    <tr>\n",
       "      <th>3</th>\n",
       "      <td>Prof</td>\n",
       "      <td>A</td>\n",
       "      <td>40</td>\n",
       "      <td>31</td>\n",
       "      <td>Male</td>\n",
       "      <td>131205</td>\n",
       "    </tr>\n",
       "    <tr>\n",
       "      <th>4</th>\n",
       "      <td>Prof</td>\n",
       "      <td>B</td>\n",
       "      <td>20</td>\n",
       "      <td>18</td>\n",
       "      <td>Male</td>\n",
       "      <td>104800</td>\n",
       "    </tr>\n",
       "    <tr>\n",
       "      <th>5</th>\n",
       "      <td>Prof</td>\n",
       "      <td>A</td>\n",
       "      <td>20</td>\n",
       "      <td>20</td>\n",
       "      <td>Male</td>\n",
       "      <td>122400</td>\n",
       "    </tr>\n",
       "    <tr>\n",
       "      <th>6</th>\n",
       "      <td>AssocProf</td>\n",
       "      <td>A</td>\n",
       "      <td>20</td>\n",
       "      <td>17</td>\n",
       "      <td>Male</td>\n",
       "      <td>81285</td>\n",
       "    </tr>\n",
       "    <tr>\n",
       "      <th>7</th>\n",
       "      <td>Prof</td>\n",
       "      <td>A</td>\n",
       "      <td>18</td>\n",
       "      <td>18</td>\n",
       "      <td>Male</td>\n",
       "      <td>126300</td>\n",
       "    </tr>\n",
       "    <tr>\n",
       "      <th>8</th>\n",
       "      <td>Prof</td>\n",
       "      <td>A</td>\n",
       "      <td>29</td>\n",
       "      <td>19</td>\n",
       "      <td>Male</td>\n",
       "      <td>94350</td>\n",
       "    </tr>\n",
       "    <tr>\n",
       "      <th>9</th>\n",
       "      <td>Prof</td>\n",
       "      <td>A</td>\n",
       "      <td>51</td>\n",
       "      <td>51</td>\n",
       "      <td>Male</td>\n",
       "      <td>57800</td>\n",
       "    </tr>\n",
       "  </tbody>\n",
       "</table>\n",
       "</div>"
      ],
      "text/plain": [
       "        rank discipline  phd  service   sex  salary\n",
       "0       Prof          B   56       49  Male  186960\n",
       "1       Prof          A   12        6  Male   93000\n",
       "2       Prof          A   23       20  Male  110515\n",
       "3       Prof          A   40       31  Male  131205\n",
       "4       Prof          B   20       18  Male  104800\n",
       "5       Prof          A   20       20  Male  122400\n",
       "6  AssocProf          A   20       17  Male   81285\n",
       "7       Prof          A   18       18  Male  126300\n",
       "8       Prof          A   29       19  Male   94350\n",
       "9       Prof          A   51       51  Male   57800"
      ]
     },
     "execution_count": 3,
     "metadata": {},
     "output_type": "execute_result"
    }
   ],
   "source": [
    "data.head(10)"
   ]
  },
  {
   "cell_type": "code",
   "execution_count": 4,
   "id": "6a075837-84a6-4d21-9999-13bed4da63e5",
   "metadata": {},
   "outputs": [
    {
     "data": {
      "text/html": [
       "<div>\n",
       "<style scoped>\n",
       "    .dataframe tbody tr th:only-of-type {\n",
       "        vertical-align: middle;\n",
       "    }\n",
       "\n",
       "    .dataframe tbody tr th {\n",
       "        vertical-align: top;\n",
       "    }\n",
       "\n",
       "    .dataframe thead th {\n",
       "        text-align: right;\n",
       "    }\n",
       "</style>\n",
       "<table border=\"1\" class=\"dataframe\">\n",
       "  <thead>\n",
       "    <tr style=\"text-align: right;\">\n",
       "      <th></th>\n",
       "      <th>min</th>\n",
       "      <th>mean</th>\n",
       "      <th>max</th>\n",
       "    </tr>\n",
       "    <tr>\n",
       "      <th>discipline</th>\n",
       "      <th></th>\n",
       "      <th></th>\n",
       "      <th></th>\n",
       "    </tr>\n",
       "  </thead>\n",
       "  <tbody>\n",
       "    <tr>\n",
       "      <th>A</th>\n",
       "      <td>57800</td>\n",
       "      <td>98331.111111</td>\n",
       "      <td>155865</td>\n",
       "    </tr>\n",
       "    <tr>\n",
       "      <th>B</th>\n",
       "      <td>71065</td>\n",
       "      <td>116331.785714</td>\n",
       "      <td>186960</td>\n",
       "    </tr>\n",
       "  </tbody>\n",
       "</table>\n",
       "</div>"
      ],
      "text/plain": [
       "              min           mean     max\n",
       "discipline                              \n",
       "A           57800   98331.111111  155865\n",
       "B           71065  116331.785714  186960"
      ]
     },
     "execution_count": 4,
     "metadata": {},
     "output_type": "execute_result"
    }
   ],
   "source": [
    "data.groupby('discipline').salary.agg(['min','mean', 'max'])"
   ]
  },
  {
   "cell_type": "code",
   "execution_count": 5,
   "id": "0d6c01fc-c490-4b21-a1ca-cc069c500726",
   "metadata": {},
   "outputs": [
    {
     "data": {
      "text/html": [
       "<div>\n",
       "<style scoped>\n",
       "    .dataframe tbody tr th:only-of-type {\n",
       "        vertical-align: middle;\n",
       "    }\n",
       "\n",
       "    .dataframe tbody tr th {\n",
       "        vertical-align: top;\n",
       "    }\n",
       "\n",
       "    .dataframe thead th {\n",
       "        text-align: right;\n",
       "    }\n",
       "</style>\n",
       "<table border=\"1\" class=\"dataframe\">\n",
       "  <thead>\n",
       "    <tr style=\"text-align: right;\">\n",
       "      <th></th>\n",
       "      <th>min</th>\n",
       "      <th>mean</th>\n",
       "      <th>max</th>\n",
       "    </tr>\n",
       "    <tr>\n",
       "      <th>rank</th>\n",
       "      <th></th>\n",
       "      <th></th>\n",
       "      <th></th>\n",
       "    </tr>\n",
       "  </thead>\n",
       "  <tbody>\n",
       "    <tr>\n",
       "      <th>AssocProf</th>\n",
       "      <td>62884</td>\n",
       "      <td>91786.230769</td>\n",
       "      <td>119800</td>\n",
       "    </tr>\n",
       "    <tr>\n",
       "      <th>AsstProf</th>\n",
       "      <td>63100</td>\n",
       "      <td>81362.789474</td>\n",
       "      <td>97032</td>\n",
       "    </tr>\n",
       "    <tr>\n",
       "      <th>Prof</th>\n",
       "      <td>57800</td>\n",
       "      <td>123624.804348</td>\n",
       "      <td>186960</td>\n",
       "    </tr>\n",
       "  </tbody>\n",
       "</table>\n",
       "</div>"
      ],
      "text/plain": [
       "             min           mean     max\n",
       "rank                                   \n",
       "AssocProf  62884   91786.230769  119800\n",
       "AsstProf   63100   81362.789474   97032\n",
       "Prof       57800  123624.804348  186960"
      ]
     },
     "execution_count": 5,
     "metadata": {},
     "output_type": "execute_result"
    }
   ],
   "source": [
    "data.groupby('rank').salary.agg(['min', 'mean','max'])"
   ]
  },
  {
   "cell_type": "code",
   "execution_count": 6,
   "id": "ca1bf756-7ae1-4474-be58-a6a8cab1d197",
   "metadata": {},
   "outputs": [
    {
     "data": {
      "text/html": [
       "<div>\n",
       "<style scoped>\n",
       "    .dataframe tbody tr th:only-of-type {\n",
       "        vertical-align: middle;\n",
       "    }\n",
       "\n",
       "    .dataframe tbody tr th {\n",
       "        vertical-align: top;\n",
       "    }\n",
       "\n",
       "    .dataframe thead th {\n",
       "        text-align: right;\n",
       "    }\n",
       "</style>\n",
       "<table border=\"1\" class=\"dataframe\">\n",
       "  <thead>\n",
       "    <tr style=\"text-align: right;\">\n",
       "      <th></th>\n",
       "      <th>min</th>\n",
       "      <th>mean</th>\n",
       "      <th>max</th>\n",
       "    </tr>\n",
       "    <tr>\n",
       "      <th>sex</th>\n",
       "      <th></th>\n",
       "      <th></th>\n",
       "      <th></th>\n",
       "    </tr>\n",
       "  </thead>\n",
       "  <tbody>\n",
       "    <tr>\n",
       "      <th>Female</th>\n",
       "      <td>62884</td>\n",
       "      <td>101002.410256</td>\n",
       "      <td>161101</td>\n",
       "    </tr>\n",
       "    <tr>\n",
       "      <th>Male</th>\n",
       "      <td>57800</td>\n",
       "      <td>115045.153846</td>\n",
       "      <td>186960</td>\n",
       "    </tr>\n",
       "  </tbody>\n",
       "</table>\n",
       "</div>"
      ],
      "text/plain": [
       "          min           mean     max\n",
       "sex                                 \n",
       "Female  62884  101002.410256  161101\n",
       "Male    57800  115045.153846  186960"
      ]
     },
     "execution_count": 6,
     "metadata": {},
     "output_type": "execute_result"
    }
   ],
   "source": [
    "data.groupby('sex').salary.agg(['min', 'mean','max'])"
   ]
  },
  {
   "cell_type": "code",
   "execution_count": 7,
   "id": "2b7dfa11-8376-4afa-94b5-579cb8714ab9",
   "metadata": {},
   "outputs": [
    {
     "data": {
      "text/html": [
       "<div>\n",
       "<style scoped>\n",
       "    .dataframe tbody tr th:only-of-type {\n",
       "        vertical-align: middle;\n",
       "    }\n",
       "\n",
       "    .dataframe tbody tr th {\n",
       "        vertical-align: top;\n",
       "    }\n",
       "\n",
       "    .dataframe thead th {\n",
       "        text-align: right;\n",
       "    }\n",
       "</style>\n",
       "<table border=\"1\" class=\"dataframe\">\n",
       "  <thead>\n",
       "    <tr style=\"text-align: right;\">\n",
       "      <th></th>\n",
       "      <th>phd</th>\n",
       "      <th>service</th>\n",
       "      <th>salary</th>\n",
       "    </tr>\n",
       "  </thead>\n",
       "  <tbody>\n",
       "    <tr>\n",
       "      <th>count</th>\n",
       "      <td>78.000000</td>\n",
       "      <td>78.000000</td>\n",
       "      <td>78.000000</td>\n",
       "    </tr>\n",
       "    <tr>\n",
       "      <th>mean</th>\n",
       "      <td>19.705128</td>\n",
       "      <td>15.051282</td>\n",
       "      <td>108023.782051</td>\n",
       "    </tr>\n",
       "    <tr>\n",
       "      <th>std</th>\n",
       "      <td>12.498425</td>\n",
       "      <td>12.139768</td>\n",
       "      <td>28293.661022</td>\n",
       "    </tr>\n",
       "    <tr>\n",
       "      <th>min</th>\n",
       "      <td>1.000000</td>\n",
       "      <td>0.000000</td>\n",
       "      <td>57800.000000</td>\n",
       "    </tr>\n",
       "    <tr>\n",
       "      <th>25%</th>\n",
       "      <td>10.250000</td>\n",
       "      <td>5.250000</td>\n",
       "      <td>88612.500000</td>\n",
       "    </tr>\n",
       "    <tr>\n",
       "      <th>50%</th>\n",
       "      <td>18.500000</td>\n",
       "      <td>14.500000</td>\n",
       "      <td>104671.000000</td>\n",
       "    </tr>\n",
       "    <tr>\n",
       "      <th>75%</th>\n",
       "      <td>27.750000</td>\n",
       "      <td>20.750000</td>\n",
       "      <td>126774.750000</td>\n",
       "    </tr>\n",
       "    <tr>\n",
       "      <th>max</th>\n",
       "      <td>56.000000</td>\n",
       "      <td>51.000000</td>\n",
       "      <td>186960.000000</td>\n",
       "    </tr>\n",
       "  </tbody>\n",
       "</table>\n",
       "</div>"
      ],
      "text/plain": [
       "             phd    service         salary\n",
       "count  78.000000  78.000000      78.000000\n",
       "mean   19.705128  15.051282  108023.782051\n",
       "std    12.498425  12.139768   28293.661022\n",
       "min     1.000000   0.000000   57800.000000\n",
       "25%    10.250000   5.250000   88612.500000\n",
       "50%    18.500000  14.500000  104671.000000\n",
       "75%    27.750000  20.750000  126774.750000\n",
       "max    56.000000  51.000000  186960.000000"
      ]
     },
     "execution_count": 7,
     "metadata": {},
     "output_type": "execute_result"
    }
   ],
   "source": [
    "data.describe()"
   ]
  },
  {
   "cell_type": "code",
   "execution_count": 8,
   "id": "3ccd3b43-f98f-4c1b-9b61-f8f74a8a1489",
   "metadata": {},
   "outputs": [
    {
     "data": {
      "text/plain": [
       "<AxesSubplot:title={'center':'salary'}, xlabel='[sex]'>"
      ]
     },
     "execution_count": 8,
     "metadata": {},
     "output_type": "execute_result"
    },
    {
     "data": {
      "image/png": "[encoded data removed]",
      "text/plain": [
       "<Figure size 432x288 with 1 Axes>"
      ]
     },
     "metadata": {
      "needs_background": "light"
     },
     "output_type": "display_data"
    }
   ],
   "source": [
    "data.boxplot(column=['salary'], by=['sex'])"
   ]
  },
  {
   "cell_type": "code",
   "execution_count": 9,
   "id": "97a7b637-7178-43a2-a99f-b40cc50ddd40",
   "metadata": {},
   "outputs": [
    {
     "data": {
      "text/plain": [
       "<AxesSubplot:title={'center':'salary'}, xlabel='[rank]'>"
      ]
     },
     "execution_count": 9,
     "metadata": {},
     "output_type": "execute_result"
    },
    {
     "data": {
      "image/png": "[encoded data removed]",
      "text/plain": [
       "<Figure size 432x288 with 1 Axes>"
      ]
     },
     "metadata": {
      "needs_background": "light"
     },
     "output_type": "display_data"
    }
   ],
   "source": [
    "data.boxplot(column=['salary'], by=['rank'])"
   ]
  },
  {
   "cell_type": "code",
   "execution_count": 9,
   "id": "9403fbb0-aed9-472a-bd1b-241c1a479af6",
   "metadata": {},
   "outputs": [
    {
     "data": {
      "text/plain": [
       "<AxesSubplot:xlabel='salary', ylabel='discipline'>"
      ]
     },
     "execution_count": 9,
     "metadata": {},
     "output_type": "execute_result"
    },
    {
     "data": {
      "image/png": "[encoded data removed]",
      "text/plain": [
       "<Figure size 432x288 with 1 Axes>"
      ]
     },
     "metadata": {
      "needs_background": "light"
     },
     "output_type": "display_data"
    }
   ],
   "source": [
    "sns.boxplot(x = data['salary'],\n",
    "            y = data['discipline'],\n",
    "            hue = data['sex'])"
   ]
  },
  {
   "cell_type": "code",
   "execution_count": 10,
   "id": "e373b99d-dbac-4b5b-bcf3-e3c69f295e26",
   "metadata": {},
   "outputs": [
    {
     "data": {
      "text/plain": [
       "<AxesSubplot:xlabel='salary', ylabel='rank'>"
      ]
     },
     "execution_count": 10,
     "metadata": {},
     "output_type": "execute_result"
    },
    {
     "data": {
      "image/png": "[encoded data removed]",
      "text/plain": [
       "<Figure size 432x288 with 1 Axes>"
      ]
     },
     "metadata": {
      "needs_background": "light"
     },
     "output_type": "display_data"
    }
   ],
   "source": [
    "sns.boxplot(x = data['salary'],\n",
    "            y = data['rank'],\n",
    "            hue = data['sex'])"
   ]
  },
  {
   "cell_type": "code",
   "execution_count": 11,
   "id": "c2876608-f0ed-4e94-9aba-5249af041cc6",
   "metadata": {},
   "outputs": [
    {
     "data": {
      "text/plain": [
       "array([[<AxesSubplot:title={'center':'phd'}>,\n",
       "        <AxesSubplot:title={'center':'service'}>],\n",
       "       [<AxesSubplot:title={'center':'salary'}>, <AxesSubplot:>]],\n",
       "      dtype=object)"
      ]
     },
     "execution_count": 11,
     "metadata": {},
     "output_type": "execute_result"
    },
    {
     "data": {
      "image/png": "[encoded data removed]",
      "text/plain": [
       "<Figure size 1080x720 with 4 Axes>"
      ]
     },
     "metadata": {
      "needs_background": "light"
     },
     "output_type": "display_data"
    }
   ],
   "source": [
    "data.hist(bins=30, figsize=(15, 10))"
   ]
  },
  {
   "cell_type": "code",
   "execution_count": 12,
   "id": "b4e14671-fb9d-469d-a7d4-4331ee7c2959",
   "metadata": {},
   "outputs": [
    {
     "data": {
      "text/plain": [
       "<AxesSubplot:>"
      ]
     },
     "execution_count": 12,
     "metadata": {},
     "output_type": "execute_result"
    },
    {
     "data": {
      "image/png": "[encoded data removed]",
      "text/plain": [
       "<Figure size 576x360 with 2 Axes>"
      ]
     },
     "metadata": {},
     "output_type": "display_data"
    }
   ],
   "source": [
    "corr = data[['phd','service','salary']].corr()\n",
    "mask = np.triu(np.ones_like(corr, dtype=bool))\n",
    "cmap = sns.diverging_palette(230, 20, as_cmap=True)\n",
    "sns.set(rc={'figure.figsize':(8,5)})\n",
    "sns.heatmap(corr, annot=True, mask = mask, cmap=cmap)"
   ]
  },
  {
   "cell_type": "code",
   "execution_count": 13,
   "id": "d6382a7e-9768-4f15-b4dc-7b76e53de59d",
   "metadata": {},
   "outputs": [
    {
     "data": {
      "image/png": "[encoded data removed]",
      "text/plain": [
       "<Figure size 576x576 with 9 Axes>"
      ]
     },
     "metadata": {},
     "output_type": "display_data"
    }
   ],
   "source": [
    "scatter_matrix(data, figsize=(8,8), diagonal='kde')\n",
    "plt.show()"
   ]
  },
  {
   "cell_type": "code",
   "execution_count": 14,
   "id": "e1c6c5b3-6d9f-48b1-97bd-684e26e91b9b",
   "metadata": {},
   "outputs": [
    {
     "data": {
      "image/png": "[encoded data removed]",
      "text/plain": [
       "<Figure size 576x360 with 1 Axes>"
      ]
     },
     "metadata": {},
     "output_type": "display_data"
    }
   ],
   "source": [
    "x = sns.regplot(x=\"salary\", \n",
    "                y=\"phd\", \n",
    "                data=data, \n",
    "                scatter_kws={'alpha':0.3})"
   ]
  },
  {
   "cell_type": "code",
   "execution_count": 15,
   "id": "107a805b-bb09-4315-869d-927e09e0463e",
   "metadata": {},
   "outputs": [
    {
     "data": {
      "image/png": "[encoded data removed]",
      "text/plain": [
       "<Figure size 576x360 with 1 Axes>"
      ]
     },
     "metadata": {},
     "output_type": "display_data"
    }
   ],
   "source": [
    "x = sns.regplot(x=\"salary\", \n",
    "                y=\"service\", \n",
    "                data=data, \n",
    "                scatter_kws={'alpha':0.3})"
   ]
  },
  {
   "cell_type": "markdown",
   "id": "e3f61059-2d74-4267-8f5b-bb664c462651",
   "metadata": {},
   "source": [
    "## One-Hot Encoding"
   ]
  },
  {
   "cell_type": "code",
   "execution_count": 10,
   "id": "6e458104-576f-45e5-9861-469c3306de91",
   "metadata": {},
   "outputs": [],
   "source": [
    "# Take all the categorical features and convert them  into on-hot features\n",
    "# name the new categorical feature same as \"oldColumn_categoricalValue\"\n",
    "# Remove the original categorical features \n",
    "#\n",
    "\n",
    "categorical_cols = data.columns[data.dtypes==object].tolist()\n",
    "data_cat = data[categorical_cols]\n",
    "enc = OneHotEncoder()\n",
    "enc.fit(data_cat)\n",
    "\n",
    "onehotlabels = enc.transform(data_cat).toarray()\n",
    "\n",
    "new_columns=list()\n",
    "for col, values in zip(data_cat.columns, enc.categories_):\n",
    "    new_columns.extend([col + '_' + str(value) for value in values])\n",
    "\n",
    "new_df= pd.concat([data_cat, pd.DataFrame(onehotlabels, columns=new_columns)], axis='columns')\n",
    "\n",
    "data_onehot = new_df.drop(categorical_cols, axis=1)\n",
    "\n",
    "data_minus_cat = data.drop(categorical_cols, axis=1)\n",
    "\n",
    "data_new = pd.concat([data_onehot, data_minus_cat], axis=1)\n",
    "\n"
   ]
  },
  {
   "cell_type": "code",
   "execution_count": 11,
   "id": "43f3b6de-f133-4eff-a9bc-fac0ae9df52e",
   "metadata": {},
   "outputs": [
    {
     "data": {
      "text/html": [
       "<div>\n",
       "<style scoped>\n",
       "    .dataframe tbody tr th:only-of-type {\n",
       "        vertical-align: middle;\n",
       "    }\n",
       "\n",
       "    .dataframe tbody tr th {\n",
       "        vertical-align: top;\n",
       "    }\n",
       "\n",
       "    .dataframe thead th {\n",
       "        text-align: right;\n",
       "    }\n",
       "</style>\n",
       "<table border=\"1\" class=\"dataframe\">\n",
       "  <thead>\n",
       "    <tr style=\"text-align: right;\">\n",
       "      <th></th>\n",
       "      <th>rank_AssocProf</th>\n",
       "      <th>rank_AsstProf</th>\n",
       "      <th>rank_Prof</th>\n",
       "      <th>discipline_A</th>\n",
       "      <th>discipline_B</th>\n",
       "      <th>sex_Female</th>\n",
       "      <th>sex_Male</th>\n",
       "      <th>phd</th>\n",
       "      <th>service</th>\n",
       "      <th>salary</th>\n",
       "    </tr>\n",
       "  </thead>\n",
       "  <tbody>\n",
       "    <tr>\n",
       "      <th>0</th>\n",
       "      <td>0.0</td>\n",
       "      <td>0.0</td>\n",
       "      <td>1.0</td>\n",
       "      <td>0.0</td>\n",
       "      <td>1.0</td>\n",
       "      <td>0.0</td>\n",
       "      <td>1.0</td>\n",
       "      <td>56</td>\n",
       "      <td>49</td>\n",
       "      <td>186960</td>\n",
       "    </tr>\n",
       "    <tr>\n",
       "      <th>1</th>\n",
       "      <td>0.0</td>\n",
       "      <td>0.0</td>\n",
       "      <td>1.0</td>\n",
       "      <td>1.0</td>\n",
       "      <td>0.0</td>\n",
       "      <td>0.0</td>\n",
       "      <td>1.0</td>\n",
       "      <td>12</td>\n",
       "      <td>6</td>\n",
       "      <td>93000</td>\n",
       "    </tr>\n",
       "    <tr>\n",
       "      <th>2</th>\n",
       "      <td>0.0</td>\n",
       "      <td>0.0</td>\n",
       "      <td>1.0</td>\n",
       "      <td>1.0</td>\n",
       "      <td>0.0</td>\n",
       "      <td>0.0</td>\n",
       "      <td>1.0</td>\n",
       "      <td>23</td>\n",
       "      <td>20</td>\n",
       "      <td>110515</td>\n",
       "    </tr>\n",
       "    <tr>\n",
       "      <th>3</th>\n",
       "      <td>0.0</td>\n",
       "      <td>0.0</td>\n",
       "      <td>1.0</td>\n",
       "      <td>1.0</td>\n",
       "      <td>0.0</td>\n",
       "      <td>0.0</td>\n",
       "      <td>1.0</td>\n",
       "      <td>40</td>\n",
       "      <td>31</td>\n",
       "      <td>131205</td>\n",
       "    </tr>\n",
       "    <tr>\n",
       "      <th>4</th>\n",
       "      <td>0.0</td>\n",
       "      <td>0.0</td>\n",
       "      <td>1.0</td>\n",
       "      <td>0.0</td>\n",
       "      <td>1.0</td>\n",
       "      <td>0.0</td>\n",
       "      <td>1.0</td>\n",
       "      <td>20</td>\n",
       "      <td>18</td>\n",
       "      <td>104800</td>\n",
       "    </tr>\n",
       "  </tbody>\n",
       "</table>\n",
       "</div>"
      ],
      "text/plain": [
       "   rank_AssocProf  rank_AsstProf  rank_Prof  discipline_A  discipline_B  \\\n",
       "0             0.0            0.0        1.0           0.0           1.0   \n",
       "1             0.0            0.0        1.0           1.0           0.0   \n",
       "2             0.0            0.0        1.0           1.0           0.0   \n",
       "3             0.0            0.0        1.0           1.0           0.0   \n",
       "4             0.0            0.0        1.0           0.0           1.0   \n",
       "\n",
       "   sex_Female  sex_Male  phd  service  salary  \n",
       "0         0.0       1.0   56       49  186960  \n",
       "1         0.0       1.0   12        6   93000  \n",
       "2         0.0       1.0   23       20  110515  \n",
       "3         0.0       1.0   40       31  131205  \n",
       "4         0.0       1.0   20       18  104800  "
      ]
     },
     "execution_count": 11,
     "metadata": {},
     "output_type": "execute_result"
    }
   ],
   "source": [
    "data_new.head()"
   ]
  },
  {
   "cell_type": "markdown",
   "id": "1dd10686-a2f0-4926-9646-d8ce01e21bf7",
   "metadata": {},
   "source": [
    "## Feature Selection"
   ]
  },
  {
   "cell_type": "code",
   "execution_count": 12,
   "id": "c16230b5-8dfe-4128-9cda-591626b5fde7",
   "metadata": {},
   "outputs": [
    {
     "data": {
      "text/plain": [
       "(78, 9)"
      ]
     },
     "execution_count": 12,
     "metadata": {},
     "output_type": "execute_result"
    }
   ],
   "source": [
    "X = data_new.drop('salary',axis=1)\n",
    "Y = data_new['salary']\n",
    "X.shape"
   ]
  },
  {
   "cell_type": "code",
   "execution_count": 21,
   "id": "00c1ab57-e2fe-462d-9362-5a1b60a88952",
   "metadata": {},
   "outputs": [
    {
     "data": {
      "text/plain": [
       "0     186960\n",
       "1      93000\n",
       "2     110515\n",
       "3     131205\n",
       "4     104800\n",
       "       ...  \n",
       "73    105450\n",
       "74    104542\n",
       "75    124312\n",
       "76    109954\n",
       "77    109646\n",
       "Name: salary, Length: 78, dtype: int64"
      ]
     },
     "execution_count": 21,
     "metadata": {},
     "output_type": "execute_result"
    }
   ],
   "source": []
  },
  {
   "cell_type": "code",
   "execution_count": 22,
   "id": "949d6ff9-c5e3-4706-b7fa-024b857693d0",
   "metadata": {},
   "outputs": [
    {
     "name": "stdout",
     "output_type": "stream",
     "text": [
      "Model Score with 1 selected features is:  0.443 ( 0.443 )\n",
      "Model Score with 2 selected features is:  0.589 ( 0.146 )\n",
      "Model Score with 3 selected features is:  0.589 ( 0.000 )\n",
      "Model Score with 4 selected features is:  0.601 ( 0.012 )\n",
      "Model Score with 5 selected features is:  0.601 ( 0.000 )\n",
      "Model Score with 6 selected features is:  0.608 ( 0.007 )\n",
      "Model Score with 7 selected features is:  0.608 ( 0.000 )\n",
      "Model Score with 8 selected features is:  0.631 ( 0.024 )\n",
      "Model Score with 9 selected features is:  0.636 ( 0.005 )\n"
     ]
    }
   ],
   "source": [
    "import re\n",
    "\n",
    "def run_rfe(X,Y,model = LinearRegression()):\n",
    "    previous_score = 0.00\n",
    "\n",
    "    for i in range(X.shape[1]):\n",
    "        NUM_FEATURES = i+1\n",
    "        #model = LinearRegression()\n",
    "        rfe = RFE(model,  n_features_to_select=NUM_FEATURES, step=1)\n",
    "        fit = rfe.fit(X, Y)\n",
    "        #print(\"Num Features:\", fit.n_features_)\n",
    "        #print(\"Selected Features:\", fit.support_)\n",
    "        #print(\"Feature Ranking:\", fit.ranking_)\n",
    "        # calculate the score for the selected features\n",
    "        score = rfe.score(X,Y)\n",
    "        delta = score - previous_score\n",
    "        print(\"Model Score with \"+ str(fit.n_features_) +\" selected features is: \", \"{:0.3f}\".format(score), '(',\"{:0.3f}\".format(delta),')')\n",
    "        previous_score = score\n",
    "        \n",
    "run_rfe(X,Y,LinearRegression())\n"
   ]
  },
  {
   "cell_type": "markdown",
   "id": "88367842-f384-4218-8499-171e81c091f1",
   "metadata": {},
   "source": [
    "## Looks like RFE should pick 4  features."
   ]
  },
  {
   "cell_type": "code",
   "execution_count": 23,
   "id": "3f2cc02a-6d82-450b-ad05-777a11185dc1",
   "metadata": {},
   "outputs": [
    {
     "name": "stdout",
     "output_type": "stream",
     "text": [
      "Num Features: 4\n",
      "Selected Features: [False  True  True  True  True False False False False]\n",
      "Feature Ranking: [2 1 1 1 1 4 3 5 6]\n",
      "Model Score with selected features is:  0.6005919052734032\n",
      "Index(['rank_AsstProf', 'rank_Prof', 'discipline_A', 'discipline_B'], dtype='object')\n"
     ]
    }
   ],
   "source": [
    "def pick_rfe_n_features(X, Y, NUM_FEATURES,model = LinearRegression()):\n",
    "    #NUM_FEATURES = 4 \n",
    "    #model = LinearRegression()\n",
    "    rfe = RFE(model,  n_features_to_select=NUM_FEATURES, step=1)\n",
    "    fit = rfe.fit(X, Y)\n",
    "    print(\"Num Features:\", fit.n_features_)\n",
    "    print(\"Selected Features:\", fit.support_)\n",
    "    print(\"Feature Ranking:\", fit.ranking_)\n",
    "    # calculate the score for the selected features\n",
    "    score = rfe.score(X,Y)\n",
    "    print(\"Model Score with selected features is: \", score)\n",
    "\n",
    "    print(X.columns[rfe.support_])\n",
    "\n",
    "pick_rfe_n_features(X, Y, 4)"
   ]
  },
  {
   "cell_type": "markdown",
   "id": "eb2bbf9a-fb11-4fe4-b904-80324b2a120b",
   "metadata": {},
   "source": [
    "# 4 features selected by RFE :\n",
    "## 'rank_AsstProf', 'rank_Prof', 'discipline_A', 'discipline_B'"
   ]
  },
  {
   "cell_type": "code",
   "execution_count": 16,
   "id": "1517d0ab-e441-4d3f-bc8b-4b28f62dbd46",
   "metadata": {},
   "outputs": [],
   "source": [
    "# stepwise forward-backward selection\n",
    "# need to change the input types as X in this function needs to be a pandas\n",
    "# dataframe\n",
    " \n",
    "def stepwise_selection(X, y, \n",
    "                       initial_list=[], \n",
    "                       threshold_in=0.01, \n",
    "                       threshold_out = 0.05, \n",
    "                       verbose=True):\n",
    "    \"\"\" Perform a forward-backward feature selection \n",
    "    based on p-value from statsmodels.api.OLS\n",
    "    Arguments:\n",
    "        X - pandas.DataFrame with candidate features\n",
    "        y - list-like with the target\n",
    "        initial_list - list of features to start with (column names of X)\n",
    "        threshold_in - include a feature if its p-value < threshold_in\n",
    "        threshold_out - exclude a feature if its p-value > threshold_out\n",
    "        verbose - whether to print the sequence of inclusions and exclusions\n",
    "    Returns: list of selected features \n",
    "    Always set threshold_in < threshold_out to avoid infinite looping.\n",
    "    See https://en.wikipedia.org/wiki/Stepwise_regression for the details\n",
    "    \"\"\"\n",
    "    #col_names = X.columns\n",
    "    included = list(initial_list)\n",
    "    while True:\n",
    "        changed=False\n",
    "        # forward step\n",
    "        excluded = list(set(X.columns)-set(included))\n",
    "        new_pval = pd.Series(index=excluded)\n",
    "        for new_column in excluded:\n",
    "            model = sm.OLS(y, sm.add_constant(pd.DataFrame(X[included+[new_column]]))).fit()\n",
    "            new_pval[new_column] = model.pvalues[new_column]\n",
    "            \n",
    "        pval_tags = new_pval.index    \n",
    "        best_pval = new_pval.min()\n",
    "        if best_pval < threshold_in:\n",
    "            best_feature = new_pval.argmin()\n",
    "            included.append(pval_tags[best_feature])\n",
    "            changed=True\n",
    "            if verbose:\n",
    "                print('Add  {:30} with p-value {:.6}'.format(best_feature, best_pval))\n",
    "\n",
    "        # backward step\n",
    "        model = sm.OLS(y, sm.add_constant(pd.DataFrame(X[included]))).fit()\n",
    "        # use all coefs except intercept\n",
    "        pvalues = model.pvalues.iloc[1:]\n",
    "        pvalues_tags = pvalues.index\n",
    "        worst_pval = pvalues.max() # null if pvalues is empty\n",
    "        if worst_pval > threshold_out:\n",
    "            changed=True\n",
    "            worst_feature = pvalues.argmax()\n",
    "            included.remove(pvalues_tags[worst_feature])\n",
    "            if verbose:\n",
    "                print('Drop {:30} with p-value {:.6}'.format(worst_feature, worst_pval))\n",
    "        if not changed:\n",
    "            break\n",
    "    return included\n"
   ]
  },
  {
   "cell_type": "code",
   "execution_count": 17,
   "id": "300ef010-20e7-48fd-824e-8c6781c2be1b",
   "metadata": {},
   "outputs": [
    {
     "name": "stdout",
     "output_type": "stream",
     "text": [
      "Add                               1 with p-value 3.02524e-11\n",
      "Add                               5 with p-value 1.91396e-06\n",
      "Add                               4 with p-value 1.5906e-09\n",
      "Add                               0 with p-value 0.00805219\n",
      "resulting features:\n",
      "['rank_Prof', 'discipline_B', 'discipline_A', 'phd']\n"
     ]
    }
   ],
   "source": [
    "result = stepwise_selection(X, Y,threshold_in=0.01, threshold_out = 0.05, verbose=True)\n",
    "\n",
    "print('resulting features:')\n",
    "print(result)"
   ]
  },
  {
   "cell_type": "code",
   "execution_count": 19,
   "id": "26db2c67-e9dc-440a-b64e-ae8bab0a8db9",
   "metadata": {},
   "outputs": [
    {
     "data": {
      "text/plain": [
       "0     186960\n",
       "1      93000\n",
       "2     110515\n",
       "3     131205\n",
       "4     104800\n",
       "       ...  \n",
       "73    105450\n",
       "74    104542\n",
       "75    124312\n",
       "76    109954\n",
       "77    109646\n",
       "Name: salary, Length: 78, dtype: int64"
      ]
     },
     "execution_count": 19,
     "metadata": {},
     "output_type": "execute_result"
    }
   ],
   "source": [
    "Y"
   ]
  },
  {
   "cell_type": "code",
   "execution_count": null,
   "id": "5653b633-c7ed-4e3e-bbd1-1ef947a306c9",
   "metadata": {},
   "outputs": [],
   "source": []
  },
  {
   "cell_type": "markdown",
   "id": "515ad2d0-2f11-4cb3-bc7e-f49deb82539b",
   "metadata": {},
   "source": [
    "# 4 features selected by Stepwise Selection :\n",
    "## 'rank_Prof', 'discipline_B', 'discipline_A', 'phd'"
   ]
  },
  {
   "cell_type": "code",
   "execution_count": null,
   "id": "22dfcdf8-a6bc-4867-8185-1182559e4f4b",
   "metadata": {},
   "outputs": [],
   "source": []
  },
  {
   "cell_type": "markdown",
   "id": "2962e7c3-20a1-41f8-9336-c92e8607fd70",
   "metadata": {},
   "source": [
    "# Data Standardization\n",
    "#### Normalize the features by scaling them to a range between 0 and 1. Use the normalize object in scikit learn library to perform normalization on the data. Read the documentation from the preprocessing library documentation and look at the sample code given in the documentation as a guide on how to perform normalization. "
   ]
  },
  {
   "cell_type": "code",
   "execution_count": 23,
   "id": "33cea525-0723-489d-882c-6dd4f737c1ed",
   "metadata": {},
   "outputs": [],
   "source": [
    "# Standardize ( mean = 0 m SD = 1 ) the numerical features.\n",
    "# One-hot encoding columns are excluded from Standardization\n",
    "#\n",
    "\n",
    "num_cols = ['phd','service']\n",
    "scaler = StandardScaler()\n",
    "scaler.fit(data[num_cols])\n",
    "#print(scaler.mean_)\n",
    "data_standard = pd.DataFrame(scaler.transform(data[num_cols]), columns=num_cols)\n"
   ]
  },
  {
   "cell_type": "code",
   "execution_count": 24,
   "id": "bcdce5d5-0a06-4101-bfc3-55a0fd9f1b55",
   "metadata": {},
   "outputs": [],
   "source": [
    "data_new_standard = pd.concat([data_new.drop(num_cols,axis=1), data_standard], axis=1)"
   ]
  },
  {
   "cell_type": "code",
   "execution_count": 25,
   "id": "21467caf-26ca-46c1-b84e-a295832966bb",
   "metadata": {},
   "outputs": [
    {
     "data": {
      "text/plain": [
       "(78, 9)"
      ]
     },
     "execution_count": 25,
     "metadata": {},
     "output_type": "execute_result"
    }
   ],
   "source": [
    "X = data_new_standard.drop('salary',axis=1)\n",
    "Y = data_new_standard['salary']\n",
    "X.shape"
   ]
  },
  {
   "cell_type": "markdown",
   "id": "73d04299-cacb-42e8-ac0f-0bd342ea9e46",
   "metadata": {},
   "source": [
    "## Stepwise Selection"
   ]
  },
  {
   "cell_type": "code",
   "execution_count": 26,
   "id": "503c1167-3003-4308-bf39-220ae833e9b1",
   "metadata": {},
   "outputs": [
    {
     "name": "stdout",
     "output_type": "stream",
     "text": [
      "Add                               0 with p-value 3.02524e-11\n",
      "Add                               0 with p-value 1.91396e-06\n",
      "Add                               4 with p-value 1.5906e-09\n",
      "Add                               0 with p-value 0.00805219\n",
      "resulting features:\n",
      "['rank_Prof', 'discipline_B', 'discipline_A', 'phd']\n"
     ]
    }
   ],
   "source": [
    "result = stepwise_selection(X, Y,threshold_in=0.01, threshold_out = 0.05, verbose=True)\n",
    "\n",
    "print('resulting features:')\n",
    "print(result)"
   ]
  },
  {
   "cell_type": "markdown",
   "id": "ce82afa5-cd97-4a73-8a33-9d1192d4191e",
   "metadata": {},
   "source": [
    "## RFE"
   ]
  },
  {
   "cell_type": "code",
   "execution_count": 27,
   "id": "86965537-2a72-4aa3-a986-4281e2e70a51",
   "metadata": {},
   "outputs": [
    {
     "name": "stdout",
     "output_type": "stream",
     "text": [
      "Model Score with 1 selected features is:  0.4427306141262478\n",
      "Model Score with 2 selected features is:  0.588962632545631\n",
      "Model Score with 3 selected features is:  0.588962632545631\n",
      "Model Score with 4 selected features is:  0.6005919052734032\n",
      "Model Score with 5 selected features is:  0.6005919052734032\n",
      "Model Score with 6 selected features is:  0.6280054618250388\n",
      "Model Score with 7 selected features is:  0.6319634757345207\n",
      "Model Score with 8 selected features is:  0.6363956624427634\n",
      "Model Score with 9 selected features is:  0.6363956624427634\n"
     ]
    }
   ],
   "source": [
    "run_rfe(X,Y)"
   ]
  },
  {
   "cell_type": "markdown",
   "id": "414a0ca5-0f29-4dcd-b091-12d8925a2e75",
   "metadata": {},
   "source": [
    "# Observation :\n",
    "### RFE could pick 4 or 6 features"
   ]
  },
  {
   "cell_type": "code",
   "execution_count": 28,
   "id": "44f36856-619e-47d7-b1e8-7796132f8d0d",
   "metadata": {},
   "outputs": [
    {
     "name": "stdout",
     "output_type": "stream",
     "text": [
      "Num Features: 4\n",
      "Selected Features: [False  True  True  True  True False False False False]\n",
      "Feature Ranking: [2 1 1 1 1 5 6 3 4]\n",
      "Model Score with selected features is:  0.6005919052734032\n",
      "Index(['rank_AsstProf', 'rank_Prof', 'discipline_A', 'discipline_B'], dtype='object')\n"
     ]
    }
   ],
   "source": [
    "pick_rfe_n_features(X, Y, 4)\n"
   ]
  },
  {
   "cell_type": "code",
   "execution_count": 29,
   "id": "83b54f85-1f79-4056-89e9-b25afafd8379",
   "metadata": {},
   "outputs": [
    {
     "name": "stdout",
     "output_type": "stream",
     "text": [
      "Num Features: 6\n",
      "Selected Features: [ True  True  True  True  True False False  True False]\n",
      "Feature Ranking: [1 1 1 1 1 3 4 1 2]\n",
      "Model Score with selected features is:  0.6280054618250388\n",
      "Index(['rank_AssocProf', 'rank_AsstProf', 'rank_Prof', 'discipline_A',\n",
      "       'discipline_B', 'phd'],\n",
      "      dtype='object')\n"
     ]
    }
   ],
   "source": [
    "pick_rfe_n_features(X, Y, 6)\n"
   ]
  },
  {
   "cell_type": "markdown",
   "id": "ff35f5c5-df47-41f2-ae9d-49894874f62e",
   "metadata": {},
   "source": [
    "# Ridge Regression\n",
    "#### 11. Use a ridge regression approach to determine an optimum number of predictors for the baseball salary dataset. Find the value of alpha that corresponds to the number of predictors with manual tuning. (same technique you used to determine the number of predictors with the RFE model. Ignore the stepwise method). "
   ]
  },
  {
   "cell_type": "code",
   "execution_count": 30,
   "id": "93c321cc-6d62-4a00-beb1-636e10bf0dda",
   "metadata": {},
   "outputs": [
    {
     "name": "stdout",
     "output_type": "stream",
     "text": [
      "Alpha : 0.001\n",
      "Model Score with 1 selected features is:  0.44273061288325943\n",
      "Model Score with 2 selected features is:  0.5889626306213288\n",
      "Model Score with 3 selected features is:  0.5889626309868562\n",
      "Model Score with 4 selected features is:  0.6005919038444131\n",
      "Model Score with 5 selected features is:  0.6005919045309633\n",
      "Model Score with 6 selected features is:  0.6280054611653125\n",
      "Model Score with 7 selected features is:  0.6319634747657095\n",
      "Model Score with 8 selected features is:  0.6363956614267348\n",
      "Model Score with 9 selected features is:  0.6363956614367527\n",
      "Alpha : 0.01\n",
      "Model Score with 1 selected features is:  0.4427304899458625\n",
      "Model Score with 2 selected features is:  0.5889624403136664\n",
      "Model Score with 3 selected features is:  0.5889624768169537\n",
      "Model Score with 4 selected features is:  0.6005917626583337\n",
      "Model Score with 5 selected features is:  0.6005918310766356\n",
      "Model Score with 6 selected features is:  0.6280053959402847\n",
      "Model Score with 7 selected features is:  0.6319633790126975\n",
      "Model Score with 8 selected features is:  0.6363955610182299\n",
      "Model Score with 9 selected features is:  0.6363955620167727\n",
      "Alpha : 10\n",
      "Model Score with 1 selected features is:  0.3896186959192608\n",
      "Model Score with 2 selected features is:  0.5111297765818255\n",
      "Model Score with 3 selected features is:  0.5781064901491166\n",
      "Model Score with 4 selected features is:  0.5905119025696405\n",
      "Model Score with 5 selected features is:  0.5957567859965951\n",
      "Model Score with 6 selected features is:  0.6027337906517067\n",
      "Model Score with 7 selected features is:  0.6063352452710323\n",
      "Model Score with 8 selected features is:  0.6063951903983568\n",
      "Model Score with 9 selected features is:  0.6039614623408969\n",
      "Alpha : 100\n",
      "Model Score with 1 selected features is:  0.23130399047629102\n",
      "Model Score with 2 selected features is:  0.28813721294696193\n",
      "Model Score with 3 selected features is:  0.31723353793975606\n",
      "Model Score with 4 selected features is:  0.35714670993709463\n",
      "Model Score with 5 selected features is:  0.38184370698770886\n",
      "Model Score with 6 selected features is:  0.3947220173145666\n",
      "Model Score with 7 selected features is:  0.40035856741041154\n",
      "Model Score with 8 selected features is:  0.4043772275713824\n",
      "Model Score with 9 selected features is:  0.4066878776272046\n",
      "Alpha : 1000\n",
      "Model Score with 1 selected features is:  0.04713965020264521\n",
      "Model Score with 2 selected features is:  0.07877342017587563\n",
      "Model Score with 3 selected features is:  0.09165616129334986\n",
      "Model Score with 4 selected features is:  0.09757335337087636\n",
      "Model Score with 5 selected features is:  0.10170831745726117\n",
      "Model Score with 6 selected features is:  0.10561605650878403\n",
      "Model Score with 7 selected features is:  0.10737641353475735\n",
      "Model Score with 8 selected features is:  0.10903680464982823\n",
      "Model Score with 9 selected features is:  0.1102052953632976\n"
     ]
    }
   ],
   "source": [
    "for al in [0.001,0.01,10,100,1000]:\n",
    "    print('Alpha : '+ str(al))\n",
    "    run_rfe(X,Y,Ridge(alpha=al))\n"
   ]
  },
  {
   "cell_type": "markdown",
   "id": "297aef6e-b7f8-4352-b2a8-8bce5923845c",
   "metadata": {},
   "source": [
    "# Observations :\n",
    "\n",
    "#### As we are incleasing alpha value, \n",
    "####\n"
   ]
  },
  {
   "cell_type": "markdown",
   "id": "30e50ef8-2416-4cae-9ee9-1ae7f592e290",
   "metadata": {},
   "source": [
    "# Lasso Regresison\n",
    "#### 12.  Use a Lasso regression approach to determine an optimum number of predictors for the baseball salary dataset. Find the value of alpha that corresponds to the number of predictors with manual tuning. (same technique you used to determine the number of predictors with the RFE model. Ignore the stepwise method). Compare the results of the Lasso with the ridge regression. For steps 11 and 12, you need to adjust the alpha value 2 to get to desired results. Alpha is referred to as hyper parameter and needs tuning. "
   ]
  },
  {
   "cell_type": "code",
   "execution_count": 31,
   "id": "fbfbc83b-1fbc-41e1-a47c-3be2ac0edd5f",
   "metadata": {},
   "outputs": [
    {
     "name": "stdout",
     "output_type": "stream",
     "text": [
      "Alpha : 0.001\n",
      "Model Score with 1 selected features is:  0.28965418163781187\n",
      "Model Score with 2 selected features is:  0.4563356661637965\n",
      "Model Score with 3 selected features is:  0.6005919052733744\n",
      "Model Score with 4 selected features is:  0.6280054618250066\n",
      "Model Score with 5 selected features is:  0.6319634757344499\n",
      "Model Score with 6 selected features is:  0.6319634757344694\n",
      "Model Score with 7 selected features is:  0.6363956624427052\n",
      "Model Score with 8 selected features is:  0.6363956624427052\n",
      "Model Score with 9 selected features is:  0.6363956624427052\n",
      "Alpha : 0.01\n",
      "Model Score with 1 selected features is:  0.2896541816371321\n",
      "Model Score with 2 selected features is:  0.4563356661616538\n",
      "Model Score with 3 selected features is:  0.6005919052705194\n",
      "Model Score with 4 selected features is:  0.628005461821858\n",
      "Model Score with 5 selected features is:  0.6319634757274313\n",
      "Model Score with 6 selected features is:  0.6319634757293845\n",
      "Model Score with 7 selected features is:  0.6363956624369331\n",
      "Model Score with 8 selected features is:  0.6363956624369331\n",
      "Model Score with 9 selected features is:  0.6363956624369331\n",
      "Alpha : 10\n",
      "Model Score with 1 selected features is:  0.44273009111987516\n",
      "Model Score with 2 selected features is:  0.58896149513253\n",
      "Model Score with 3 selected features is:  0.6264098155227519\n",
      "Model Score with 4 selected features is:  0.6305429479528954\n",
      "Model Score with 5 selected features is:  0.6319581623595318\n",
      "Model Score with 6 selected features is:  0.6363894644022199\n",
      "Model Score with 7 selected features is:  0.6363894644022197\n",
      "Model Score with 8 selected features is:  0.6363894644022197\n",
      "Model Score with 9 selected features is:  0.6363895438759193\n",
      "Alpha : 100\n",
      "Model Score with 1 selected features is:  0.44267831348896824\n",
      "Model Score with 2 selected features is:  0.5888488943970729\n",
      "Model Score with 3 selected features is:  0.6262953904165137\n",
      "Model Score with 4 selected features is:  0.6300414019758815\n",
      "Model Score with 5 selected features is:  0.6314359205726026\n",
      "Model Score with 6 selected features is:  0.6357797733792045\n",
      "Model Score with 7 selected features is:  0.6357797733792045\n",
      "Model Score with 8 selected features is:  0.6357797733792045\n",
      "Model Score with 9 selected features is:  0.6357815305720995\n",
      "Alpha : 1000\n",
      "Model Score with 1 selected features is:  0.43750055039828106\n",
      "Model Score with 2 selected features is:  0.5775888493046635\n",
      "Model Score with 3 selected features is:  0.614822834085901\n",
      "Model Score with 4 selected features is:  0.614822834085901\n",
      "Model Score with 5 selected features is:  0.6148227680460026\n",
      "Model Score with 6 selected features is:  0.6148227680460026\n",
      "Model Score with 7 selected features is:  0.6148227680460026\n",
      "Model Score with 8 selected features is:  0.6148238594950022\n",
      "Model Score with 9 selected features is:  0.6148227344367156\n"
     ]
    }
   ],
   "source": [
    "for al in [.001,0.01,10,100,1000]:\n",
    "    print('Alpha : '+ str(al))\n",
    "    run_rfe(X,Y,Lasso(alpha=al, max_iter=10e5))\n"
   ]
  },
  {
   "cell_type": "markdown",
   "id": "3fe71139-62e8-4a86-9568-379d1c6727ca",
   "metadata": {},
   "source": [
    "# Observations :\n",
    "\n",
    "#### \n",
    "####\n"
   ]
  },
  {
   "cell_type": "markdown",
   "id": "0641b07d-225b-4e73-af38-79c0092deea6",
   "metadata": {},
   "source": [
    "# Extra : from the sample code that is provided for the lab. \n",
    "## Running Linear, Ridge and Lasso"
   ]
  },
  {
   "cell_type": "code",
   "execution_count": 32,
   "id": "3426ebc5-94db-4568-a304-9ebcfd8da49f",
   "metadata": {},
   "outputs": [],
   "source": [
    "#newX = data[['phd','service']]\n",
    "#newY = data['salary']\n",
    "\n",
    "newX = data_new_standard.drop('salary',axis=1)\n",
    "newY = data_new_standard['salary']"
   ]
  },
  {
   "cell_type": "code",
   "execution_count": 33,
   "id": "73475125-4b7b-4a24-8653-8823caa5ad92",
   "metadata": {},
   "outputs": [
    {
     "name": "stdout",
     "output_type": "stream",
     "text": [
      "24 24\n",
      "linear regression train score: 0.7190376037138377\n",
      "linear regression test score: 0.3920338587264103\n",
      "ridge regression train score low alpha: 0.7190373824815355\n",
      "ridge regression test score low alpha: 0.3918595302794635\n",
      "ridge regression train score high alpha: 0.4784532863047031\n",
      "ridge regression test score high alpha: 0.13732269260224594\n"
     ]
    },
    {
     "data": {
      "image/png": "[encoded data removed]",
      "text/plain": [
       "<Figure size 576x360 with 1 Axes>"
      ]
     },
     "metadata": {},
     "output_type": "display_data"
    }
   ],
   "source": [
    "\n",
    "\n",
    "X_train,X_test,y_train,y_test=train_test_split(newX,newY,test_size=0.3,random_state=3)\n",
    "print(len(X_test), len(y_test))\n",
    "lr = LinearRegression()\n",
    "lr.fit(X_train, y_train)\n",
    "\n",
    "rr = Ridge(alpha=0.01) # higher the alpha value, more restriction on the coefficients; low alpha > more generalization, coefficients are barely\n",
    "# restricted and in this case linear and ridge regression resembles\n",
    "rr.fit(X_train, y_train)\n",
    "rr100 = Ridge(alpha=100) #  comparison with alpha value\n",
    "rr100.fit(X_train, y_train)\n",
    "train_score=lr.score(X_train, y_train)\n",
    "test_score=lr.score(X_test, y_test)\n",
    "Ridge_train_score = rr.score(X_train,y_train)\n",
    "Ridge_test_score = rr.score(X_test, y_test)\n",
    "Ridge_train_score100 = rr100.score(X_train,y_train)\n",
    "Ridge_test_score100 = rr100.score(X_test, y_test)\n",
    "\n",
    "\n",
    "print(\"linear regression train score:\", train_score)\n",
    "print(\"linear regression test score:\", test_score)\n",
    "print( \"ridge regression train score low alpha:\", Ridge_train_score)\n",
    "print(\"ridge regression test score low alpha:\", Ridge_test_score)\n",
    "print(\"ridge regression train score high alpha:\", Ridge_train_score100)\n",
    "print(\"ridge regression test score high alpha:\", Ridge_test_score100)\n",
    "\n",
    "\n",
    "\n",
    "plt.plot(rr.coef_,alpha=0.7,linestyle='none',marker='*',markersize=5,color='red',label=r'Ridge; $\\alpha = 0.01$',zorder=7) # zorder for ordering the markers\n",
    "plt.plot(rr100.coef_,alpha=0.5,linestyle='none',marker='d',markersize=6,color='blue',label=r'Ridge; $\\alpha = 100$') # alpha here is for transparency\n",
    "plt.plot(lr.coef_,alpha=0.4,linestyle='none',marker='o',markersize=7,color='green',label='Linear Regression')\n",
    "plt.xlabel('Coefficient Index',fontsize=16)\n",
    "plt.ylabel('Coefficient Magnitude',fontsize=16)\n",
    "plt.legend(fontsize=13,loc=4)\n",
    "plt.show()\n",
    "\n"
   ]
  },
  {
   "cell_type": "code",
   "execution_count": 34,
   "id": "b394e11b-38c1-4272-be3b-3fd75bb6b3a8",
   "metadata": {},
   "outputs": [
    {
     "name": "stdout",
     "output_type": "stream",
     "text": [
      "Alpha(default) :  1.0\n",
      "Lasso training score: 0.7190375359277686\n",
      "test score:  0.39192145568930437\n",
      "Lasso number of features used:  9\n",
      "********************\n",
      "Lasso training score for alpha=0.5: 0.7190308703271246\n",
      "Lasso test score for alpha =0.5:  0.39109314185779265\n",
      "Lasso number of features used: for alpha =0.5: 8\n",
      "********************\n",
      "Lasso training score for alpha=0.01: 0.7190376037069535\n",
      "Lasso test score for alpha =0.01:  0.3920327459295615\n",
      "Lasso number of features used: for alpha =0.01: 9\n",
      "********************\n",
      "Lasso training score for alpha=0.0001: 0.7190376037138371\n",
      "Lasso test score for alpha =0.0001:  0.39203384760402193\n",
      "Lasso number of features used: for alpha =0.0001: 8\n",
      "********************\n"
     ]
    }
   ],
   "source": [
    "'''\n",
    "multiple linear regression with Lasso\n",
    "'''\n",
    "#import math \n",
    "\n",
    "\n",
    "#import numpy as np\n",
    "# difference of lasso and ridge regression is that some of the coefficients can be zero i.e. some of the features are \n",
    "# completely neglected\n",
    "\n",
    "\n",
    "X_train,X_test,y_train,y_test=train_test_split(newX,newY,test_size=0.3,random_state=3)\n",
    "\n",
    "lasso = Lasso()\n",
    "lasso.fit(X_train,y_train)\n",
    "train_score=lasso.score(X_train,y_train)\n",
    "test_score=lasso.score(X_test,y_test)\n",
    "coeff_used = np.sum(lasso.coef_!=0)\n",
    "\n",
    "print('Alpha(default) : ', 1.0)\n",
    "print(\"Lasso training score:\", train_score) \n",
    "print(\"test score: \", test_score)\n",
    "print(\"Lasso number of features used: \", coeff_used)\n",
    "print(\"*\"*20)\n",
    "\n",
    "lasso05 = Lasso(alpha=10, max_iter=10e5)\n",
    "lasso05.fit(X_train,y_train)\n",
    "train_score05=lasso05.score(X_train,y_train)\n",
    "test_score05=lasso05.score(X_test,y_test)\n",
    "coeff_used05 = np.sum(lasso05.coef_!=0)\n",
    "print( \"Lasso training score for alpha=0.5:\", train_score05 )\n",
    "print( \"Lasso test score for alpha =0.5: \", test_score05)\n",
    "print( \"Lasso number of features used: for alpha =0.5:\", coeff_used05)\n",
    "print(\"*\"*20)\n",
    "\n",
    "lasso001 = Lasso(alpha=0.01, max_iter=10e5)\n",
    "lasso001.fit(X_train,y_train)\n",
    "train_score001=lasso001.score(X_train,y_train)\n",
    "test_score001=lasso001.score(X_test,y_test)\n",
    "coeff_used001 = np.sum(lasso001.coef_!=0)\n",
    "print( \"Lasso training score for alpha=0.01:\", train_score001 )\n",
    "print( \"Lasso test score for alpha =0.01: \", test_score001)\n",
    "print( \"Lasso number of features used: for alpha =0.01:\", coeff_used001)\n",
    "print(\"*\"*20)\n",
    "\n",
    "lasso00001 = Lasso(alpha=0.0001, max_iter=10e5)\n",
    "lasso00001.fit(X_train,y_train)\n",
    "train_score00001=lasso00001.score(X_train,y_train)\n",
    "test_score00001=lasso00001.score(X_test,y_test)\n",
    "coeff_used00001 = np.sum(lasso00001.coef_!=0)\n",
    "print( \"Lasso training score for alpha=0.0001:\", train_score00001 )\n",
    "print( \"Lasso test score for alpha =0.0001: \", test_score00001)\n",
    "print( \"Lasso number of features used: for alpha =0.0001:\", coeff_used00001)\n",
    "print(\"*\"*20)\n"
   ]
  },
  {
   "cell_type": "code",
   "execution_count": 35,
   "id": "3d9b33c8-8bbf-4de9-bff4-adf143613a4b",
   "metadata": {},
   "outputs": [
    {
     "name": "stdout",
     "output_type": "stream",
     "text": [
      "LR training score: 0.7190376037138377\n",
      "LR test score:  0.3920338587264103\n"
     ]
    },
    {
     "data": {
      "image/png": "[encoded data removed]",
      "text/plain": [
       "<Figure size 576x360 with 2 Axes>"
      ]
     },
     "metadata": {},
     "output_type": "display_data"
    }
   ],
   "source": [
    "\n",
    "lr = LinearRegression()\n",
    "lr.fit(X_train,y_train)\n",
    "lr_train_score=lr.score(X_train,y_train)\n",
    "lr_test_score=lr.score(X_test,y_test)\n",
    "print( \"LR training score:\", lr_train_score )\n",
    "print( \"LR test score: \", lr_test_score)\n",
    "plt.subplot(1,2,1)\n",
    "plt.plot(lasso.coef_,alpha=0.7,linestyle='none',marker='*',markersize=5,color='red',label=r'Lasso; $\\alpha = 1$',zorder=7) # alpha here is for transparency\n",
    "plt.plot(lasso05.coef_,alpha=0.5,linestyle='none',marker='d',markersize=6,color='blue',label=r'Lasso; $\\alpha = 0.1$') # alpha here is for transparency\n",
    "\n",
    "plt.xlabel('Coefficient Index',fontsize=16)\n",
    "plt.ylabel('Coefficient Magnitude',fontsize=16)\n",
    "plt.legend(fontsize=13,loc=4)\n",
    "plt.subplot(1,2,2)\n",
    "plt.plot(lasso.coef_,alpha=0.7,linestyle='none',marker='*',markersize=5,color='red',label=r'Lasso; $\\alpha = 1$',zorder=7) # alpha here is for transparency\n",
    "plt.plot(lasso001.coef_,alpha=0.5,linestyle='none',marker='d',markersize=6,color='blue',label=r'Lasso; $\\alpha = 0.01$') # alpha here is for transparency\n",
    "plt.plot(lasso00001.coef_,alpha=0.8,linestyle='none',marker='v',markersize=6,color='black',label=r'Lasso; $\\alpha = 0.00001$') # alpha here is for transparency\n",
    "plt.plot(lr.coef_,alpha=0.7,linestyle='none',marker='o',markersize=5,color='green',label='Linear Regression',zorder=2)\n",
    "plt.xlabel('Coefficient Index',fontsize=16)\n",
    "plt.ylabel('Coefficient Magnitude',fontsize=16)\n",
    "plt.legend(fontsize=13,loc=4)\n",
    "plt.tight_layout()\n",
    "plt.show()"
   ]
  },
  {
   "cell_type": "code",
   "execution_count": null,
   "id": "d17b5d3a-78a5-484c-936b-e8dbe2a949a4",
   "metadata": {},
   "outputs": [],
   "source": []
  },
  {
   "cell_type": "code",
   "execution_count": null,
   "id": "d7e78651-4087-4388-b871-346c6e0512b2",
   "metadata": {},
   "outputs": [],
   "source": []
  },
  {
   "cell_type": "code",
   "execution_count": null,
   "id": "f1e6984c-7e31-460d-9f43-830b8d54fbce",
   "metadata": {},
   "outputs": [],
   "source": []
  },
  {
   "cell_type": "code",
   "execution_count": null,
   "id": "f5eb6795-4369-4654-ac3d-bd6bb06f2b8e",
   "metadata": {},
   "outputs": [],
   "source": []
  }
 ],
 "metadata": {
  "kernelspec": {
   "display_name": "Python 3 (ipykernel)",
   "language": "python",
   "name": "python3"
  },
  "language_info": {
   "codemirror_mode": {
    "name": "ipython",
    "version": 3
   },
   "file_extension": ".py",
   "mimetype": "text/x-python",
   "name": "python",
   "nbconvert_exporter": "python",
   "pygments_lexer": "ipython3",
   "version": "3.9.12"
  }
 },
 "nbformat": 4,
 "nbformat_minor": 5
}
